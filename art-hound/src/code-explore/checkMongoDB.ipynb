{
 "cells": [
  {
   "cell_type": "code",
   "execution_count": 2,
   "id": "495c1403-f4ca-4f4b-9ff2-ac764bdcabef",
   "metadata": {},
   "outputs": [],
   "source": [
    "from pymongo import MongoClient\n",
    "\n",
    "client = MongoClient(\"mongodb://mongodb:27017\")"
   ]
  },
  {
   "cell_type": "code",
   "execution_count": 3,
   "id": "83a98599-f5e5-430a-b29a-7dc8903e9a81",
   "metadata": {},
   "outputs": [],
   "source": [
    "db = client.mydatabase"
   ]
  },
  {
   "cell_type": "code",
   "execution_count": 4,
   "id": "fdc51d4b-c54c-4e29-a91d-207ff2c79a6a",
   "metadata": {},
   "outputs": [
    {
     "data": {
      "text/plain": [
       "['users']"
      ]
     },
     "execution_count": 4,
     "metadata": {},
     "output_type": "execute_result"
    }
   ],
   "source": [
    "db.list_collection_names()"
   ]
  },
  {
   "cell_type": "code",
   "execution_count": 6,
   "id": "6047f55e-07ab-4b56-9e22-6b8bdfe5e0e8",
   "metadata": {},
   "outputs": [
    {
     "data": {
      "text/plain": [
       "Collection(Database(MongoClient(host=['mongodb:27017'], document_class=dict, tz_aware=False, connect=True), 'mydatabase'), 'users')"
      ]
     },
     "execution_count": 6,
     "metadata": {},
     "output_type": "execute_result"
    }
   ],
   "source": [
    "db[\"users\"]"
   ]
  },
  {
   "cell_type": "code",
   "execution_count": 7,
   "id": "c8103dc5-ab14-4294-9fa9-073a7539ca12",
   "metadata": {},
   "outputs": [],
   "source": [
    "all_users = db[\"users\"].find({})"
   ]
  },
  {
   "cell_type": "code",
   "execution_count": 9,
   "id": "bbecfe47-c15f-451b-ac0e-f10d76dd88a7",
   "metadata": {},
   "outputs": [],
   "source": [
    "import pandas as pd\n",
    "df = pd.DataFrame(list(all_users))"
   ]
  },
  {
   "cell_type": "code",
   "execution_count": 10,
   "id": "f77857d2-3487-4464-97e8-c959ce981389",
   "metadata": {},
   "outputs": [
    {
     "data": {
      "text/html": [
       "<div>\n",
       "<style scoped>\n",
       "    .dataframe tbody tr th:only-of-type {\n",
       "        vertical-align: middle;\n",
       "    }\n",
       "\n",
       "    .dataframe tbody tr th {\n",
       "        vertical-align: top;\n",
       "    }\n",
       "\n",
       "    .dataframe thead th {\n",
       "        text-align: right;\n",
       "    }\n",
       "</style>\n",
       "<table border=\"1\" class=\"dataframe\">\n",
       "  <thead>\n",
       "    <tr style=\"text-align: right;\">\n",
       "      <th></th>\n",
       "      <th>_id</th>\n",
       "      <th>username</th>\n",
       "      <th>password</th>\n",
       "      <th>email</th>\n",
       "    </tr>\n",
       "  </thead>\n",
       "  <tbody>\n",
       "    <tr>\n",
       "      <th>0</th>\n",
       "      <td>6740a7381cf7121303d43537</td>\n",
       "      <td>cbaycity</td>\n",
       "      <td>test@gmail.com</td>\n",
       "      <td>Password1</td>\n",
       "    </tr>\n",
       "    <tr>\n",
       "      <th>1</th>\n",
       "      <td>6740ac387bc1834e1dddbc8a</td>\n",
       "      <td>test</td>\n",
       "      <td>test@gmail.com</td>\n",
       "      <td>password1</td>\n",
       "    </tr>\n",
       "  </tbody>\n",
       "</table>\n",
       "</div>"
      ],
      "text/plain": [
       "                        _id  username        password      email\n",
       "0  6740a7381cf7121303d43537  cbaycity  test@gmail.com  Password1\n",
       "1  6740ac387bc1834e1dddbc8a      test  test@gmail.com  password1"
      ]
     },
     "execution_count": 10,
     "metadata": {},
     "output_type": "execute_result"
    }
   ],
   "source": [
    "df"
   ]
  },
  {
   "cell_type": "code",
   "execution_count": null,
   "id": "cb22bc66-7e2a-4c24-ab04-f1f36fce7ae8",
   "metadata": {},
   "outputs": [],
   "source": []
  }
 ],
 "metadata": {
  "kernelspec": {
   "display_name": "Python 3 (ipykernel)",
   "language": "python",
   "name": "python3"
  },
  "language_info": {
   "codemirror_mode": {
    "name": "ipython",
    "version": 3
   },
   "file_extension": ".py",
   "mimetype": "text/x-python",
   "name": "python",
   "nbconvert_exporter": "python",
   "pygments_lexer": "ipython3",
   "version": "3.11.6"
  }
 },
 "nbformat": 4,
 "nbformat_minor": 5
}
